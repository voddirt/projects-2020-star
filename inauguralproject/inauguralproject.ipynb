{
 "cells": [
  {
   "cell_type": "markdown",
   "metadata": {},
   "source": [
    "# Inaugural Project"
   ]
  },
  {
   "cell_type": "markdown",
   "metadata": {},
   "source": [
    "> **Note the following:** \n",
    "> 1. This is an example of how to structure your **inaugural project**.\n",
    "> 1. Remember the general advice on structuring and commenting your code from [lecture 5](https://numeconcopenhagen.netlify.com/lectures/Workflow_and_debugging).\n",
    "> 1. Remember this [guide](https://www.markdownguide.org/basic-syntax/) on markdown and (a bit of) latex.\n",
    "> 1. Turn on automatic numbering by clicking on the small icon on top of the table of contents in the left sidebar.\n",
    "> 1. The `inauguralproject.py` file includes a function which can be used multiple times in this notebook."
   ]
  },
  {
   "cell_type": "markdown",
   "metadata": {},
   "source": [
    "Imports and set magics:"
   ]
  },
  {
   "cell_type": "code",
   "execution_count": null,
   "metadata": {},
   "outputs": [],
   "source": [
    "import numpy as np\n",
    "\n",
    "# autoreload modules when code is run\n",
    "%load_ext autoreload\n",
    "%autoreload 2\n",
    "\n",
    "# local modules\n",
    "import inauguralproject"
   ]
  },
  {
   "cell_type": "markdown",
   "metadata": {
    "toc-hr-collapsed": true,
    "toc-nb-collapsed": true
   },
   "source": [
    "# Question 1"
   ]
  },
  {
   "cell_type": "markdown",
   "metadata": {},
   "source": [
    "In question 1 we want to solve the consumers maximization problem. We solve the model by use the Scipy optimize function. "
   ]
  },
  {
   "cell_type": "code",
   "execution_count": 2,
   "metadata": {},
   "outputs": [
    {
     "name": "stdout",
     "output_type": "stream",
     "text": [
      "optimizing for wage rate=0.666\n",
      "\n",
      "consumption: 1.146\n",
      "labor:       0.365\n",
      "utility:     0.107\n",
      "\n"
     ]
    }
   ],
   "source": [
    "# code for solving the model (remember documentation and comments)\n",
    "\n",
    "# 1.1 optimal consumption, labor and utility as a function of wage rate\n",
    "\n",
    "def star(w):\n",
    "\n",
    "    # parameter values\n",
    "    m = 1    # cash-on-hand\n",
    "    t = 0.4  # standard labor income tax\n",
    "    tt = 0.1 # top bracket labor income tax\n",
    "    k = 0.4  # cut-off for the top labor income bracket\n",
    "    v = 10   # disutility of labor\n",
    "    e = 0.3  # Frisch elasticity of labor supply\n",
    "\n",
    "    # total resources\n",
    "    def x(l): \n",
    "        x = m+w*l-(t*w*l+tt*max(w*l-k,0))\n",
    "        return x\n",
    "\n",
    "    # objective / negative utility\n",
    "    import numpy as np\n",
    "    def obj(l):\n",
    "        u=np.log(x(l))-v*(l**(1+1/e))/(1+1/e)\n",
    "        return -u\n",
    "\n",
    "    # optimization\n",
    "    from scipy import optimize\n",
    "    sol = optimize.minimize_scalar(obj,method='bounded',bounds=(0,1))\n",
    "    l_star = sol.x\n",
    "    c_star = x(l_star)\n",
    "    u_star = -obj(l_star)\n",
    "\n",
    "    return print(f'optimizing for wage rate={w}\\n\\nconsumption: {c_star:.3f}\\nlabor:       {l_star:.3f}\\nutility:     {u_star:.3f}\\n')\n",
    "\n",
    "# 1.2 answer / call function\n",
    "\n",
    "star(0.666)\n"
   ]
  },
  {
   "cell_type": "markdown",
   "metadata": {},
   "source": [
    "# Question 2"
   ]
  },
  {
   "cell_type": "markdown",
   "metadata": {},
   "source": [
    "We want to find the optimal choices of consumption and leisure when N = 10.000. We loop the optimization problem 10.000 times over different values for values of w between 0.5 and 1.5, as it is given in the exercise that the wage is between 0.5 and 1.5, and from that we find the optimal l and c for each w."
   ]
  },
  {
   "cell_type": "code",
   "execution_count": 3,
   "metadata": {},
   "outputs": [
    {
     "data": {
      "image/png": "[encoded data removed]",
      "text/plain": [
       "<Figure size 432x288 with 2 Axes>"
      ]
     },
     "metadata": {
      "needs_background": "light"
     },
     "output_type": "display_data"
    }
   ],
   "source": [
    "# 2.1 optimal labor as a function of wage rate\n",
    "\n",
    "def labor_star(w):\n",
    "\n",
    "    # parameter values\n",
    "    m = 1    # cash-on-hand\n",
    "    t = 0.4  # standard labor income tax\n",
    "    tt = 0.1 # top bracket labor income tax\n",
    "    k = 0.4  # cut-off for the top labor income bracket\n",
    "    v = 10   # disutility of labor\n",
    "    e = 0.3  # Frisch elasticity of labor supply\n",
    "\n",
    "    # total resources\n",
    "    def x(l): \n",
    "        x = m+w*l-(t*w*l+tt*max(w*l-k,0))\n",
    "        return x\n",
    "\n",
    "    # objective / negative utility\n",
    "    import numpy as np\n",
    "    def obj(l):\n",
    "        u=np.log(x(l))-v*(l**(1+1/e))/(1+1/e)\n",
    "        return -u\n",
    "\n",
    "    # optimization\n",
    "    from scipy import optimize\n",
    "    sol = optimize.minimize_scalar(obj,method='bounded',bounds=(0,1))\n",
    "    l_star = sol.x\n",
    "    return l_star\n",
    "\n",
    "\n",
    "\n",
    "# 2.2 optimal consumption as a function of wage rate\n",
    "\n",
    "def consumption_star(w):\n",
    "\n",
    "    # parameter values\n",
    "    m = 1    # cash-on-hand\n",
    "    t = 0.4  # standard labor income tax\n",
    "    tt = 0.1 # top bracket labor income tax\n",
    "    k = 0.4  # cut-off for the top labor income bracket\n",
    "    v = 10   # disutility of labor\n",
    "    e = 0.3  # Frisch elasticity of labor supply\n",
    "\n",
    "    # total resources\n",
    "    def x(l): \n",
    "        x = m+w*l-(t*w*l+tt*max(w*l-k,0))\n",
    "        return x\n",
    "\n",
    "    # objective / negative utility\n",
    "    import numpy as np\n",
    "    def obj(l):\n",
    "        u=np.log(x(l))-v*(l**(1+1/e))/(1+1/e)\n",
    "        return -u\n",
    "\n",
    "    # optimization\n",
    "    from scipy import optimize\n",
    "    sol = optimize.minimize_scalar(obj,method='bounded',bounds=(0,1))\n",
    "    l_star = sol.x\n",
    "    c_star = x(l_star)\n",
    "    return c_star\n",
    "\n",
    "\n",
    "\n",
    "# 2.3 arrays\n",
    "\n",
    "import numpy as np\n",
    "wage_rate=np.arange(0.5,1.5,0.01)\n",
    "labor=np.array([labor_star(i) for i in wage_rate])\n",
    "consumption=np.array([consumption_star(i) for i in wage_rate])\n",
    "\n",
    "\n",
    "\n",
    "# 2.4 answer / plot\n",
    "\n",
    "import matplotlib.pyplot as plt\n",
    "\n",
    "fig, ax1 = plt.subplots() # first y axis and x axis\n",
    "color = 'tab:red'\n",
    "ax1.set_xlabel('wage rate')\n",
    "ax1.set_ylabel('labor', color=color)\n",
    "ax1.plot(wage_rate, labor, color=color)\n",
    "ax1.tick_params(axis='y', labelcolor=color)\n",
    "\n",
    "ax2 = ax1.twinx() # second y axis\n",
    "color = 'tab:blue'\n",
    "ax2.set_ylabel('consumption', color=color)\n",
    "ax2.plot(wage_rate, consumption, color=color)\n",
    "ax2.tick_params(axis='y', labelcolor=color)\n",
    "\n",
    "fig.tight_layout() \n",
    "plt.show()\n"
   ]
  },
  {
   "cell_type": "markdown",
   "metadata": {},
   "source": [
    "# Question 3"
   ]
  },
  {
   "cell_type": "markdown",
   "metadata": {},
   "source": [
    "Meaning that the total tax revenue is given by 1632.189."
   ]
  },
  {
   "cell_type": "code",
   "execution_count": 4,
   "metadata": {},
   "outputs": [
    {
     "name": "stdout",
     "output_type": "stream",
     "text": [
      "total tax revenue is 1632.189\n"
     ]
    }
   ],
   "source": [
    "# 3.1 tax revenue per person as a function of wage rate\n",
    "\n",
    "def tax_rev_per_per(w):\n",
    "\n",
    "    # parameter values \n",
    "    t = 0.4  # standard labor income tax\n",
    "    tt = 0.1 # top bracket labor income tax\n",
    "    k = 0.4  # cut-off for the top labor income bracket\n",
    "\n",
    "    #tax revenue per person\n",
    "    trpp=t*w*labor_star(w)+tt*max(w*labor_star(w)-k,0)\n",
    "\n",
    "    return trpp\n",
    "\n",
    "\n",
    "\n",
    "# 3.2 wage distribution\n",
    "\n",
    "import numpy as np\n",
    "population=10000 # population\n",
    "low_bound=0.5 # minimum value\n",
    "high_bound=1.5 # maximum value\n",
    "np.random.seed(666) # seed\n",
    "wage=np.random.uniform(low=low_bound,high=high_bound,size=population)\n",
    "\n",
    "\n",
    "\n",
    "# 3.3 sum of tax revenue per person from population\n",
    "\n",
    "tax_revenue=0\n",
    "for i in wage:\n",
    "    tax_revenue=tax_revenue + tax_rev_per_per(i)\n",
    "\n",
    "\n",
    "\n",
    "# 3.4 answer\n",
    "\n",
    "print(f'total tax revenue is {tax_revenue:.3f}')\n",
    "#=1632.189 (slow)\n",
    "\n"
   ]
  },
  {
   "cell_type": "markdown",
   "metadata": {},
   "source": [
    "# Question 4"
   ]
  },
  {
   "cell_type": "markdown",
   "metadata": {},
   "source": [
    "If ε instead were 0.1 the total tax revenue increases from 1632.189 to 3198.68, m\n",
    "eaning that there would be an increase of 1566.499. \n",
    "This is due to the fact that the decrease in Frisch elasticity lowers the substitution effect."
   ]
  },
  {
   "cell_type": "code",
   "execution_count": 5,
   "metadata": {},
   "outputs": [
    {
     "name": "stdout",
     "output_type": "stream",
     "text": [
      "total tax revenue increases\n",
      "\n",
      "from:    1632.189\n",
      "to:      3198.688\n",
      "change:  1566.499\n",
      "\n",
      "note: the decrease in Frisch elasticity\n",
      "lowers the substitution effect\n"
     ]
    }
   ],
   "source": [
    "# 4.1 new optimal labor as a function of wage rate\n",
    "\n",
    "def labor_star2(w):\n",
    "    \n",
    "    # parameter values\n",
    "    m = 1    # cash-on-hand\n",
    "    t = 0.4  # standard labor income tax\n",
    "    tt = 0.1 # top bracket labor income tax\n",
    "    k = 0.4  # cut-off for the top labor income bracket\n",
    "    v = 10   # disutility of labor\n",
    "    e = 0.1  # Frisch elasticity of labor supply\n",
    "\n",
    "    # total resources\n",
    "    def x(l): \n",
    "        x = m+w*l-(t*w*l+tt*max(w*l-k,0))\n",
    "        return x\n",
    "\n",
    "    # objective / negative utility\n",
    "    import numpy as np\n",
    "    def obj(l):\n",
    "        u=np.log(x(l))-v*(l**(1+1/e))/(1+1/e)\n",
    "        return -u\n",
    "\n",
    "    # optimization\n",
    "    from scipy import optimize\n",
    "    sol = optimize.minimize_scalar(obj,method='bounded',bounds=(0,1))\n",
    "    l_star = sol.x\n",
    "    return l_star\n",
    "\n",
    "\n",
    "\n",
    "# 4.2 new tax revenue per person as a function of wage rate\n",
    "\n",
    "def tax_rev_per_per2(w):\n",
    "    \n",
    "    # parameter values \n",
    "    t = 0.4  # standard labor income tax\n",
    "    tt = 0.1 # top bracket labor income tax\n",
    "    k = 0.4  # cut-off for the top labor income bracket\n",
    "\n",
    "    #tax revenue per person\n",
    "    trpp=t*w*labor_star2(w)+tt*max(w*labor_star2(w)-k,0)\n",
    "\n",
    "    return trpp\n",
    "\n",
    "\n",
    "\n",
    "# 4.3 new total tax revenue\n",
    "\n",
    "tax_revenue2=0\n",
    "\n",
    "for i in wage:\n",
    "    tax_revenue2=tax_revenue2 + tax_rev_per_per2(i)\n",
    "\n",
    "\n",
    "\n",
    "# 4.4 answer \n",
    "\n",
    "print(f'total tax revenue increases\\n\\nfrom:    {tax_revenue:.3f}\\nto:      {tax_revenue2:.3f}\\nchange:  {tax_revenue2-tax_revenue:.3f}\\n\\nnote: the decrease in Frisch elasticity\\nlowers the substitution effect')\n",
    "#=3198.688 (slow)"
   ]
  },
  {
   "cell_type": "markdown",
   "metadata": {},
   "source": [
    "# Question 5"
   ]
  },
  {
   "cell_type": "markdown",
   "metadata": {},
   "source": [
    "To find the value of tau_0, tau_1 and kappa we will use optimize.minimize.\n",
    "We found the tau_0=0.443 , tau_1=0.343, kappa=0 and total tax revenue=2468.53"
   ]
  },
  {
   "cell_type": "code",
   "execution_count": 3,
   "metadata": {},
   "outputs": [
    {
     "name": "stdout",
     "output_type": "stream",
     "text": [
      "setting according to wishes\n",
      "\n",
      "new standard labor income tax:                0.443\n",
      "new top bracket labor income tax:             0.342\n",
      "new cut-off for the top labor income bracket: 0.000\n",
      "new total tax revenue:                        2468.534\n",
      "current total tax revenue:                    1632.189\n",
      "change in tax revenue:                        836.345\n",
      "\n",
      "note: implementation might be a unpopular move\n"
     ]
    }
   ],
   "source": [
    "# wage distribution\n",
    "\n",
    "import numpy as np\n",
    "population=10000 # population\n",
    "low_bound=0.5 # minimum value\n",
    "high_bound=1.5 # maximum value\n",
    "np.random.seed(666) # seed\n",
    "wage=np.random.uniform(low=low_bound,high=high_bound,size=population)\n",
    "\n",
    "tax_revenue=1632.189\n",
    "\n",
    "\n",
    "# 5.1 objective\n",
    "\n",
    "def new_objective(x):\n",
    "\n",
    "    # new optimal labor\n",
    "    def new_labor_star(w):\n",
    "\n",
    "        m = 1    # cash-on-hand\n",
    "        v = 10   # disutility of labor\n",
    "        e = 0.3  # Frisch elasticity of labor supply\n",
    "\n",
    "        # total resources\n",
    "        def new_x(l): \n",
    "            res = m+w*l-(x[0]*w*l+x[1]*max(w*l-x[2],0))\n",
    "            return res\n",
    "\n",
    "        # objective / negative utility\n",
    "        import numpy as np\n",
    "        def new_obj(l):\n",
    "            u=np.log(new_x(l))-v*(l**(1+1/e))/(1+1/e)\n",
    "            return -u\n",
    "\n",
    "        # optimization\n",
    "        from scipy import optimize\n",
    "        new_labor_sol = optimize.minimize_scalar(new_obj,method='bounded',bounds=(0,1))\n",
    "        new_l_star = new_labor_sol.x\n",
    "        return new_l_star\n",
    "\n",
    "    # new tax revenue per person\n",
    "    def new_tax_rev_per_per(w):\n",
    "        ntrpp=x[0]*w*new_labor_star(w)+x[1]*max(w*new_labor_star(w)-x[2],0)\n",
    "        return ntrpp\n",
    "\n",
    "    # new total tax revenue\n",
    "    new_tax_reveneu=0\n",
    "    for i in wage:\n",
    "        new_tax_reveneu=new_tax_reveneu + new_tax_rev_per_per(i)\n",
    "\n",
    "    return -new_tax_reveneu\n",
    "\n",
    "\n",
    "\n",
    "# 5.2 initial guess\n",
    "\n",
    "x0=[0,0,0]\n",
    "\n",
    "\n",
    "# 5.3 bounds\n",
    "\n",
    "b=(0.0,1.0) # variable\n",
    "bounds=(b,b,b) #vector\n",
    "\n",
    "\n",
    "\n",
    "# 5.4 constraint\n",
    "\n",
    "def con(x): # defining constraint\n",
    "   return -(x[0]+x[1])+1 # intention: t+tt<1 (sum of taxes should be smaller than one)\n",
    "\n",
    "constraint = ({'type':'ineq','fun':con}) # in a dictionary\n",
    "\n",
    "\n",
    "\n",
    "# 5.5 optimization\n",
    "\n",
    "from scipy.optimize import minimize\n",
    "new_sol=minimize(new_objective, x0, method='SLSQP', bounds=bounds, constraints=constraint)\n",
    "\n",
    "\n",
    "\n",
    "# 5.6 answer\n",
    "\n",
    "print(f'setting according to wishes\\n\\nnew standard labor income tax:                {new_sol.x[0]:.3f}\\nnew top bracket labor income tax:             {new_sol.x[1]:.3f}\\nnew cut-off for the top labor income bracket: {new_sol.x[2]:.3f}\\nnew total tax revenue:                        {-new_objective([new_sol.x[0],new_sol.x[1],new_sol.x[2]]):.3f}\\ncurrent total tax revenue:                    {tax_revenue:.3f}\\nchange in tax revenue:                        {-new_objective([new_sol.x[0],new_sol.x[1],new_sol.x[2]])-tax_revenue:.3f}\\n\\nnote: implementation might be a unpopular move')\n",
    "# suggestion: t=0.443 , tt=0.343, k=0, total tax revenue=2468.534 (very slow)\n"
   ]
  },
  {
   "cell_type": "markdown",
   "metadata": {},
   "source": [
    "# Conclusion"
   ]
  },
  {
   "cell_type": "markdown",
   "metadata": {},
   "source": [
    "In this project we have solved the consumerss maximization problem, the results showed the optimal level of consumption and leisure are increasing in wage and there is a kink around the cut-off in the plot when wage equals 1. \n",
    "Futhermore we find that the tax revenue for the elasticity equals 0.3 is 1632.19 and when the elasticity equals 0.1 the tax revenue is 3198.69. \n",
    "When elasticity of the labour supply decreases we found the tax revenue increases. "
   ]
  }
 ],
 "metadata": {
  "kernelspec": {
   "display_name": "Python 3",
   "language": "python",
   "name": "python3"
  },
  "language_info": {
   "codemirror_mode": {
    "name": "ipython",
    "version": 3
   },
   "file_extension": ".py",
   "mimetype": "text/x-python",
   "name": "python",
   "nbconvert_exporter": "python",
   "pygments_lexer": "ipython3",
   "version": "3.7.4"
  },
  "toc-autonumbering": true
 },
 "nbformat": 4,
 "nbformat_minor": 4
}
